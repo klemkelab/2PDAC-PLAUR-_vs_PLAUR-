{
 "cells": [
  {
   "cell_type": "markdown",
   "metadata": {},
   "source": [
    "https://pubmed.ncbi.nlm.nih.gov/36781852/\n",
    "\n",
    "Nat Commun 2023 Feb 13;14(1):797. doi: 10.1038/s41467-023-36296-4. Single-cell RNA sequencing reveals the effects of chemotherapy on human pancreatic adenocarcinoma and its tumor microenvironment\n",
    "GSE205013. Patient Samples"
   ]
  },
  {
   "cell_type": "markdown",
   "metadata": {},
   "source": []
  }
 ],
 "metadata": {
  "language_info": {
   "name": "python"
  }
 },
 "nbformat": 4,
 "nbformat_minor": 2
}
